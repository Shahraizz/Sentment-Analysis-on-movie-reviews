{
 "cells": [
  {
   "cell_type": "markdown",
   "metadata": {},
   "source": [
    "# Sentiment Analysis on Movie Reviews\n",
    "***"
   ]
  },
  {
   "cell_type": "code",
   "execution_count": 1,
   "metadata": {},
   "outputs": [],
   "source": [
    "### Importing helper libraries\n",
    "import pandas as pd\n",
    "import nltk\n",
    "import re\n",
    "#from nltk.corpus import stopwords"
   ]
  },
  {
   "cell_type": "markdown",
   "metadata": {},
   "source": [
    "---\n",
    "## Loading Data\n"
   ]
  },
  {
   "cell_type": "code",
   "execution_count": 2,
   "metadata": {},
   "outputs": [
    {
     "data": {
      "text/html": [
       "<div>\n",
       "<style scoped>\n",
       "    .dataframe tbody tr th:only-of-type {\n",
       "        vertical-align: middle;\n",
       "    }\n",
       "\n",
       "    .dataframe tbody tr th {\n",
       "        vertical-align: top;\n",
       "    }\n",
       "\n",
       "    .dataframe thead th {\n",
       "        text-align: right;\n",
       "    }\n",
       "</style>\n",
       "<table border=\"1\" class=\"dataframe\">\n",
       "  <thead>\n",
       "    <tr style=\"text-align: right;\">\n",
       "      <th></th>\n",
       "      <th>PhraseId</th>\n",
       "      <th>SentenceId</th>\n",
       "      <th>Phrase</th>\n",
       "      <th>Sentiment</th>\n",
       "    </tr>\n",
       "  </thead>\n",
       "  <tbody>\n",
       "    <tr>\n",
       "      <th>0</th>\n",
       "      <td>1</td>\n",
       "      <td>1</td>\n",
       "      <td>A series of escapades demonstrating the adage ...</td>\n",
       "      <td>1</td>\n",
       "    </tr>\n",
       "    <tr>\n",
       "      <th>1</th>\n",
       "      <td>2</td>\n",
       "      <td>1</td>\n",
       "      <td>A series of escapades demonstrating the adage ...</td>\n",
       "      <td>2</td>\n",
       "    </tr>\n",
       "    <tr>\n",
       "      <th>2</th>\n",
       "      <td>3</td>\n",
       "      <td>1</td>\n",
       "      <td>A series</td>\n",
       "      <td>2</td>\n",
       "    </tr>\n",
       "    <tr>\n",
       "      <th>3</th>\n",
       "      <td>4</td>\n",
       "      <td>1</td>\n",
       "      <td>A</td>\n",
       "      <td>2</td>\n",
       "    </tr>\n",
       "    <tr>\n",
       "      <th>4</th>\n",
       "      <td>5</td>\n",
       "      <td>1</td>\n",
       "      <td>series</td>\n",
       "      <td>2</td>\n",
       "    </tr>\n",
       "  </tbody>\n",
       "</table>\n",
       "</div>"
      ],
      "text/plain": [
       "   PhraseId  SentenceId                                             Phrase  \\\n",
       "0         1           1  A series of escapades demonstrating the adage ...   \n",
       "1         2           1  A series of escapades demonstrating the adage ...   \n",
       "2         3           1                                           A series   \n",
       "3         4           1                                                  A   \n",
       "4         5           1                                             series   \n",
       "\n",
       "   Sentiment  \n",
       "0          1  \n",
       "1          2  \n",
       "2          2  \n",
       "3          2  \n",
       "4          2  "
      ]
     },
     "execution_count": 2,
     "metadata": {},
     "output_type": "execute_result"
    }
   ],
   "source": [
    "df=pd.read_csv('Dataset/train.tsv',sep='\\t')\n",
    "df.head()"
   ]
  },
  {
   "cell_type": "code",
   "execution_count": 3,
   "metadata": {},
   "outputs": [
    {
     "data": {
      "text/plain": [
       "<matplotlib.axes._subplots.AxesSubplot at 0x28806bb9c18>"
      ]
     },
     "execution_count": 3,
     "metadata": {},
     "output_type": "execute_result"
    },
    {
     "data": {
      "image/png": "[encoded data removed]",
      "text/plain": [
       "<Figure size 432x288 with 1 Axes>"
      ]
     },
     "metadata": {
      "needs_background": "light"
     },
     "output_type": "display_data"
    }
   ],
   "source": [
    "import seaborn as sbn\n",
    "\n",
    "x = df['Sentiment'].value_counts()\n",
    "sbn.barplot(x.index,x.values)"
   ]
  },
  {
   "cell_type": "code",
   "execution_count": 4,
   "metadata": {},
   "outputs": [
    {
     "name": "stdout",
     "output_type": "stream",
     "text": [
      "Shape of a independent feature:  (156060,)\n",
      "Shape of a dependent feature:  (156060,)\n"
     ]
    }
   ],
   "source": [
    "## Get the Independent Features\n",
    "X=df['Phrase']\n",
    "## Get the Dependent features\n",
    "y=df['Sentiment']\n",
    "\n",
    "print(\"Shape of a independent feature: \",X.shape)\n",
    "print(\"Shape of a dependent feature: \",y.shape)"
   ]
  },
  {
   "cell_type": "markdown",
   "metadata": {},
   "source": [
    "---\n",
    "## Data preprocessing\n",
    "\n",
    "\n",
    "1. **Convert text to lowercase**\n",
    "2. **Tokenization:** Tokenization is the process of splitting the given text into smaller pieces called tokens. Words, numbers, punctuation marks, and others can be considered as tokens.\n",
    "3. **Stemming:** Stemming is a process of reducing words to their word stem, base or root form (for example, books — book, looked — look)."
   ]
  },
  {
   "cell_type": "code",
   "execution_count": 5,
   "metadata": {},
   "outputs": [],
   "source": [
    "### Dataset Preprocessing\n",
    "from nltk.stem.porter import PorterStemmer\n",
    "from nltk.tokenize import TweetTokenizer\n",
    "\n",
    "ps = PorterStemmer()\n",
    "tt = TweetTokenizer()\n",
    "corpus = []\n",
    "\n",
    "for i in range(0, len(X)):\n",
    "    #review = re.sub('[^a-zA-Z]', ' ', X[i])\n",
    "    review = X[i].lower()\n",
    "    review = tt.tokenize(review)\n",
    "    review = [ps.stem(word) for word in review]\n",
    "    review = ' '.join(review)\n",
    "    corpus.append(review)"
   ]
  },
  {
   "cell_type": "code",
   "execution_count": 6,
   "metadata": {},
   "outputs": [
    {
     "data": {
      "text/plain": [
       "['a seri of escapad demonstr the adag that what is good for the goos is also good for the gander , some of which occasion amus but none of which amount to much of a stori .',\n",
       " 'a seri of escapad demonstr the adag that what is good for the goos',\n",
       " 'a seri',\n",
       " 'a',\n",
       " 'seri',\n",
       " 'of escapad demonstr the adag that what is good for the goos',\n",
       " 'of',\n",
       " 'escapad demonstr the adag that what is good for the goos']"
      ]
     },
     "execution_count": 6,
     "metadata": {},
     "output_type": "execute_result"
    }
   ],
   "source": [
    "corpus[:8]"
   ]
  },
  {
   "cell_type": "markdown",
   "metadata": {},
   "source": [
    "***\n",
    "## One hot representation\n",
    "\n",
    "A one hot encoding is a representation of categorical variables as binary vectors. Each integer value is represented as a binary vector that is all zero values except the index of the integer, which is marked with a 1.\n",
    "<br>\n",
    "\n",
    "![alt text](./images/One-hot.png)"
   ]
  },
  {
   "cell_type": "code",
   "execution_count": 8,
   "metadata": {},
   "outputs": [
    {
     "data": {
      "text/plain": [
       "[[12635, 13650],\n",
       " [12635],\n",
       " [13650],\n",
       " [4861, 11956, 5137, 13813, 7589, 529, 4105, 2252, 7297, 13733, 13813, 9049],\n",
       " [4861],\n",
       " [11956, 5137, 13813, 7589, 529, 4105, 2252, 7297, 13733, 13813, 9049]]"
      ]
     },
     "execution_count": 8,
     "metadata": {},
     "output_type": "execute_result"
    }
   ],
   "source": [
    "from tensorflow.keras.preprocessing.text import one_hot\n",
    "\n",
    "### Vocabulary size\n",
    "voc_size=15000\n",
    "\n",
    "onehot_repr=[one_hot(words,voc_size)for words in corpus] \n",
    "onehot_repr[2:8]"
   ]
  },
  {
   "cell_type": "markdown",
   "metadata": {},
   "source": [
    "***\n",
    "## Padding sequences\n",
    "\n",
    "Deep learning libraries assume a vectorized representation of your data.\n",
    "In the case of variable length sequence prediction problems, this requires that your data be transformed such that each sequence has the same length.\n",
    "This vectorization allows code to efficiently perform the matrix operations in batch for your chosen deep learning algorithms.\n",
    "[![alt text](./images/Padding.jpeg)](https://www.google.com/url?sa=i&url=https%3A%2F%2Ftowardsdatascience.com%2Fhow-to-use-lstm-network-to-build-a-story-generator-using-tensorflow-framework-b35964852d18&psig=AOvVaw2WrYFmuFOf2Mh0cmSr_CTN&ust=1593336944759000&source=images&cd=vfe&ved=0CAIQjRxqFwoTCIj7nujYoeoCFQAAAAAdAAAAABAK)"
   ]
  },
  {
   "cell_type": "code",
   "execution_count": 9,
   "metadata": {},
   "outputs": [
    {
     "name": "stdout",
     "output_type": "stream",
     "text": [
      "[[    0     0     0 ...  4861 12635    74]\n",
      " [    0     0     0 ... 13733 13813  9049]\n",
      " [    0     0     0 ...     0 12635 13650]\n",
      " ...\n",
      " [    0     0     0 ...     0  3700  8323]\n",
      " [    0     0     0 ...     0     0  3700]\n",
      " [    0     0     0 ...     0     0  8323]]\n"
     ]
    }
   ],
   "source": [
    "from tensorflow.keras.preprocessing.sequence import pad_sequences\n",
    "\n",
    "sent_length=40\n",
    "embedded_docs=pad_sequences(onehot_repr,padding='pre',maxlen=sent_length)\n",
    "print(embedded_docs)"
   ]
  },
  {
   "cell_type": "markdown",
   "metadata": {},
   "source": [
    "***\n",
    "## Creating Model\n",
    "\n",
    "Here i am using Long short-term memory (LSTM), it is an artificial recurrent neural network (RNN) architecture used in the field of deep learning. Unlike standard feedforward neural networks, LSTM has feedback connections. It can not only process single data points (such as images), but also entire sequences of data (such as speech or video)."
   ]
  },
  {
   "cell_type": "markdown",
   "metadata": {},
   "source": [
    "![](./images/lstm.png)"
   ]
  },
  {
   "cell_type": "code",
   "execution_count": 10,
   "metadata": {},
   "outputs": [
    {
     "name": "stdout",
     "output_type": "stream",
     "text": [
      "Model: \"sequential\"\n",
      "_________________________________________________________________\n",
      "Layer (type)                 Output Shape              Param #   \n",
      "=================================================================\n",
      "embedding (Embedding)        (None, 40, 40)            600000    \n",
      "_________________________________________________________________\n",
      "dropout (Dropout)            (None, 40, 40)            0         \n",
      "_________________________________________________________________\n",
      "lstm (LSTM)                  (None, 100)               56400     \n",
      "_________________________________________________________________\n",
      "dropout_1 (Dropout)          (None, 100)               0         \n",
      "_________________________________________________________________\n",
      "dense (Dense)                (None, 5)                 505       \n",
      "=================================================================\n",
      "Total params: 656,905\n",
      "Trainable params: 656,905\n",
      "Non-trainable params: 0\n",
      "_________________________________________________________________\n",
      "None\n"
     ]
    }
   ],
   "source": [
    "import tensorflow as tf\n",
    "from tensorflow.keras.layers import Embedding\n",
    "from tensorflow.keras.models import Sequential\n",
    "from tensorflow.keras.layers import LSTM\n",
    "from tensorflow.keras.layers import Dense\n",
    "from tensorflow.keras.layers import Bidirectional\n",
    "from tensorflow.keras.layers import Dropout\n",
    "\n",
    "tf.keras.backend.clear_session()\n",
    "\n",
    "embedding_vector_features = 40\n",
    "\n",
    "model=Sequential()\n",
    "model.add(Embedding(voc_size,embedding_vector_features,input_length=sent_length))\n",
    "model.add(Dropout(0.3))\n",
    "model.add(LSTM(100))\n",
    "model.add(Dropout(0.3))\n",
    "model.add(Dense(5))\n",
    "          \n",
    "model.compile(loss=tf.keras.losses.SparseCategoricalCrossentropy(from_logits=True),\n",
    "              optimizer='adam',metrics=['accuracy'])\n",
    "print(model.summary())"
   ]
  },
  {
   "cell_type": "markdown",
   "metadata": {},
   "source": [
    "***\n",
    "## Training a model"
   ]
  },
  {
   "cell_type": "code",
   "execution_count": 11,
   "metadata": {},
   "outputs": [
    {
     "name": "stdout",
     "output_type": "stream",
     "text": [
      "Train on 104560 samples, validate on 51500 samples\n",
      "Epoch 1/8\n",
      "104560/104560 [==============================] - 41s 394us/sample - loss: 1.0617 - accuracy: 0.5742 - val_loss: 0.9159 - val_accuracy: 0.6231\n",
      "Epoch 2/8\n",
      "104560/104560 [==============================] - 32s 304us/sample - loss: 0.8856 - accuracy: 0.6382 - val_loss: 0.8723 - val_accuracy: 0.6419\n",
      "Epoch 3/8\n",
      "104560/104560 [==============================] - 33s 314us/sample - loss: 0.8347 - accuracy: 0.6550 - val_loss: 0.8692 - val_accuracy: 0.6454\n",
      "Epoch 4/8\n",
      "104560/104560 [==============================] - 31s 301us/sample - loss: 0.7998 - accuracy: 0.6703 - val_loss: 0.8544 - val_accuracy: 0.6506\n",
      "Epoch 5/8\n",
      "104560/104560 [==============================] - 32s 310us/sample - loss: 0.7757 - accuracy: 0.6781 - val_loss: 0.8537 - val_accuracy: 0.6521\n",
      "Epoch 6/8\n",
      "104560/104560 [==============================] - 32s 303us/sample - loss: 0.7555 - accuracy: 0.6861 - val_loss: 0.8480 - val_accuracy: 0.6574\n",
      "Epoch 7/8\n",
      "104560/104560 [==============================] - 33s 319us/sample - loss: 0.7369 - accuracy: 0.6934 - val_loss: 0.8486 - val_accuracy: 0.6587\n",
      "Epoch 8/8\n",
      "104560/104560 [==============================] - 32s 307us/sample - loss: 0.7227 - accuracy: 0.6995 - val_loss: 0.8505 - val_accuracy: 0.6581\n"
     ]
    },
    {
     "data": {
      "text/plain": [
       "<tensorflow.python.keras.callbacks.History at 0x28812cacbe0>"
      ]
     },
     "execution_count": 11,
     "metadata": {},
     "output_type": "execute_result"
    }
   ],
   "source": [
    "import numpy as np\n",
    "X_final=np.array(embedded_docs)\n",
    "y_final=np.array(y)\n",
    "\n",
    "### Spliting data into train and test set\n",
    "from sklearn.model_selection import train_test_split\n",
    "X_train, X_test, y_train, y_test = train_test_split(X_final, y_final, test_size=0.33, random_state=42)\n",
    "\n",
    "### Finally Training\n",
    "model.fit(X_train,y_train,validation_data=(X_test,y_test),epochs=8,batch_size=64)"
   ]
  },
  {
   "cell_type": "code",
   "execution_count": 12,
   "metadata": {},
   "outputs": [],
   "source": [
    "y_pred=model.predict_classes(X_test)"
   ]
  },
  {
   "cell_type": "markdown",
   "metadata": {},
   "source": [
    "***\n",
    "## Evaluation"
   ]
  },
  {
   "cell_type": "code",
   "execution_count": 13,
   "metadata": {},
   "outputs": [
    {
     "name": "stdout",
     "output_type": "stream",
     "text": [
      "Confusion Matrix: \n",
      "\n",
      "[[  765  1260   284    31     1]\n",
      " [  514  4634  3650   256     7]\n",
      " [   99  2152 21431  2249    67]\n",
      " [   11   238  4079  5974   688]\n",
      " [    2    16   260  1745  1087]]\n"
     ]
    }
   ],
   "source": [
    "from sklearn.metrics import confusion_matrix\n",
    "\n",
    "### Confusion Matrix\n",
    "print(\"Confusion Matrix: \")\n",
    "print()\n",
    "print(confusion_matrix(y_test,y_pred))"
   ]
  },
  {
   "cell_type": "code",
   "execution_count": 14,
   "metadata": {},
   "outputs": [
    {
     "name": "stdout",
     "output_type": "stream",
     "text": [
      "Accuracy score: 0.6580776699029126\n"
     ]
    }
   ],
   "source": [
    "from sklearn.metrics import accuracy_score\n",
    "\n",
    "print(\"Accuracy score:\",accuracy_score(y_test,y_pred))"
   ]
  },
  {
   "cell_type": "code",
   "execution_count": 15,
   "metadata": {},
   "outputs": [
    {
     "name": "stdout",
     "output_type": "stream",
     "text": [
      "Precision_score:  0.6472431731708634\n"
     ]
    }
   ],
   "source": [
    "from sklearn.metrics import precision_score\n",
    "\n",
    "print(\"Precision_score: \",precision_score(y_test,y_pred, average='weighted'))"
   ]
  },
  {
   "cell_type": "code",
   "execution_count": null,
   "metadata": {},
   "outputs": [],
   "source": []
  }
 ],
 "metadata": {
  "kernelspec": {
   "display_name": "Python 3",
   "language": "python",
   "name": "python3"
  },
  "language_info": {
   "codemirror_mode": {
    "name": "ipython",
    "version": 3
   },
   "file_extension": ".py",
   "mimetype": "text/x-python",
   "name": "python",
   "nbconvert_exporter": "python",
   "pygments_lexer": "ipython3",
   "version": "3.6.10"
  }
 },
 "nbformat": 4,
 "nbformat_minor": 4
}
